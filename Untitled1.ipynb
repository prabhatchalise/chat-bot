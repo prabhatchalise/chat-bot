{
 "cells": [
  {
   "cell_type": "code",
   "execution_count": 2,
   "metadata": {
    "collapsed": true
   },
   "outputs": [],
   "source": [
    "import topic"
   ]
  },
  {
   "cell_type": "code",
   "execution_count": 3,
   "metadata": {},
   "outputs": [
    {
     "name": "stdout",
     "output_type": "stream",
     "text": [
      "\n",
      " What is the cost of internet connection per month for 1mbps?\n",
      "Subject: ['cost', 'connection'] \n",
      "Topic: ['What'] \n",
      "Object: []\n"
     ]
    }
   ],
   "source": [
    "sentence = \"What is the cost of internet connection per month for 1mbps?\"\n",
    "subj, root, obj = topic.topic(sentence)\n",
    "print(\"\\n\",sentence)\n",
    "print(\"Subject:\",subj, \"\\nTopic:\", root, \"\\nObject:\",obj)"
   ]
  },
  {
   "cell_type": "code",
   "execution_count": 4,
   "metadata": {},
   "outputs": [
    {
     "name": "stdout",
     "output_type": "stream",
     "text": [
      "\n",
      " How is the service and support\n",
      "Subject: ['service', 'support'] \n",
      "Topic: [] \n",
      "Object: []\n"
     ]
    }
   ],
   "source": [
    "sentence = \"How is the service and support\"\n",
    "subj, root, obj = topic.topic(sentence)\n",
    "print(\"\\n\",sentence)\n",
    "print(\"Subject:\",subj, \"\\nTopic:\", root, \"\\nObject:\",obj)"
   ]
  },
  {
   "cell_type": "code",
   "execution_count": 5,
   "metadata": {},
   "outputs": [
    {
     "name": "stdout",
     "output_type": "stream",
     "text": [
      "\n",
      " How can i change my wifi password?\n",
      "Subject: [] \n",
      "Topic: ['change'] \n",
      "Object: ['password', 'wifi']\n"
     ]
    }
   ],
   "source": [
    "sentence = \"How can i change my wifi password?\"\n",
    "subj, root, obj = topic.topic(sentence)\n",
    "print(\"\\n\",sentence)\n",
    "print(\"Subject:\",subj, \"\\nTopic:\", root, \"\\nObject:\",obj)"
   ]
  },
  {
   "cell_type": "code",
   "execution_count": 6,
   "metadata": {},
   "outputs": [
    {
     "name": "stdout",
     "output_type": "stream",
     "text": [
      "['i']\n",
      "['change']\n",
      "['password', 'my', 'wifi']\n"
     ]
    }
   ],
   "source": [
    "print(subject_list)\n",
    "print(topic_list)\n",
    "print(object_list)"
   ]
  },
  {
   "cell_type": "code",
   "execution_count": 7,
   "metadata": {
    "collapsed": true
   },
   "outputs": [],
   "source": [
    "from nltk.corpus import stopwords\n",
    "\n",
    "stopWords = set(stopwords.words('english'))\n",
    "\n",
    "def wordfilter(words):\n",
    "    wordsFiltered = []\n",
    "    words = words\n",
    "    for w in words:\n",
    "        if w not in stopWords:\n",
    "            wordsFiltered.append(w)\n",
    "        \n",
    "    return wordsFiltered"
   ]
  },
  {
   "cell_type": "code",
   "execution_count": 8,
   "metadata": {},
   "outputs": [
    {
     "name": "stdout",
     "output_type": "stream",
     "text": [
      "[]\n",
      "['change']\n",
      "['password', 'wifi']\n"
     ]
    }
   ],
   "source": [
    "print(wordfilter(subject_list))\n",
    "print(wordfilter(topic_list))\n",
    "print(wordfilter(object_list))"
   ]
  },
  {
   "cell_type": "code",
   "execution_count": null,
   "metadata": {
    "collapsed": true
   },
   "outputs": [],
   "source": [
    "# need to store FAQ and there answer in SQL/SQLite\n"
   ]
  },
  {
   "cell_type": "code",
   "execution_count": 14,
   "metadata": {
    "collapsed": true
   },
   "outputs": [],
   "source": [
    "import databaseOperation"
   ]
  },
  {
   "cell_type": "code",
   "execution_count": 15,
   "metadata": {},
   "outputs": [
    {
     "ename": "ProgrammingError",
     "evalue": "Cannot operate on a closed database.",
     "output_type": "error",
     "traceback": [
      "\u001b[1;31m---------------------------------------------------------------------------\u001b[0m",
      "\u001b[1;31mProgrammingError\u001b[0m                          Traceback (most recent call last)",
      "\u001b[1;32m<ipython-input-15-5152c8bc28fb>\u001b[0m in \u001b[0;36m<module>\u001b[1;34m()\u001b[0m\n\u001b[1;32m----> 1\u001b[1;33m \u001b[0mdatabaseOperation\u001b[0m\u001b[1;33m.\u001b[0m\u001b[0mno_of_rows\u001b[0m\u001b[1;33m(\u001b[0m\u001b[1;33m)\u001b[0m\u001b[1;33m\u001b[0m\u001b[0m\n\u001b[0m",
      "\u001b[1;32mC:\\Users\\Pr\\Downloads\\NLTK-chatbot\\code\\Project\\code\\databaseOperation.py\u001b[0m in \u001b[0;36mno_of_rows\u001b[1;34m()\u001b[0m\n\u001b[0;32m    109\u001b[0m \u001b[1;33m\u001b[0m\u001b[0m\n\u001b[0;32m    110\u001b[0m \u001b[1;31m# gives no of row of the answer table\u001b[0m\u001b[1;33m\u001b[0m\u001b[1;33m\u001b[0m\u001b[0m\n\u001b[1;32m--> 111\u001b[1;33m \u001b[1;32mdef\u001b[0m \u001b[0mno_of_rows\u001b[0m\u001b[1;33m(\u001b[0m\u001b[1;33m)\u001b[0m\u001b[1;33m:\u001b[0m\u001b[1;33m\u001b[0m\u001b[0m\n\u001b[0m\u001b[0;32m    112\u001b[0m     \u001b[0mc\u001b[0m \u001b[1;33m=\u001b[0m \u001b[0mconn\u001b[0m\u001b[1;33m.\u001b[0m\u001b[0mcursor\u001b[0m\u001b[1;33m(\u001b[0m\u001b[1;33m)\u001b[0m\u001b[1;33m\u001b[0m\u001b[0m\n\u001b[0;32m    113\u001b[0m     \u001b[0mn\u001b[0m \u001b[1;33m=\u001b[0m \u001b[0mc\u001b[0m\u001b[1;33m.\u001b[0m\u001b[0mexecute\u001b[0m\u001b[1;33m(\u001b[0m\u001b[1;34m\"SELECT Count(*) FROM answer\"\u001b[0m\u001b[1;33m)\u001b[0m\u001b[1;33m\u001b[0m\u001b[0m\n",
      "\u001b[1;31mProgrammingError\u001b[0m: Cannot operate on a closed database."
     ]
    }
   ],
   "source": [
    "databaseOperation.no_of_rows()"
   ]
  },
  {
   "cell_type": "code",
   "execution_count": null,
   "metadata": {
    "collapsed": true
   },
   "outputs": [],
   "source": []
  }
 ],
 "metadata": {
  "kernelspec": {
   "display_name": "Python 3",
   "language": "python",
   "name": "python3"
  },
  "language_info": {
   "codemirror_mode": {
    "name": "ipython",
    "version": 3
   },
   "file_extension": ".py",
   "mimetype": "text/x-python",
   "name": "python",
   "nbconvert_exporter": "python",
   "pygments_lexer": "ipython3",
   "version": "3.6.1"
  }
 },
 "nbformat": 4,
 "nbformat_minor": 2
}
